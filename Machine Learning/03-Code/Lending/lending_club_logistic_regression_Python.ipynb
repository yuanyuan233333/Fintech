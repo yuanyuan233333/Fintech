{
 "cells": [
  {
   "cell_type": "markdown",
   "metadata": {},
   "source": [
    "NOTE: This notebook runs LogisticRegression without Lasso (L1) or Ridge (L2) regularization. For this you need SKlearn 0.21.3. \n",
    "\n",
    "For users who are to Python: you can check the version you have by entering \n",
    "                conda list \n",
    "in the Anaconda Prompt. To update an earlier version enter \n",
    "            conda update python \n",
    "in the Anaconda Prompt. \n",
    "\n"
   ]
  },
  {
   "cell_type": "code",
   "execution_count": 1,
   "metadata": {},
   "outputs": [],
   "source": [
    "# import packages\n",
    "import warnings\n",
    "warnings.filterwarnings('ignore')\n",
    "\n",
    "import pandas as pd\n",
    "import numpy as np\n",
    "\n",
    "import seaborn as sns\n",
    "import matplotlib.pyplot as plt\n",
    "\n",
    "from sklearn.linear_model import LogisticRegression\n",
    "\n",
    "from sklearn.metrics import accuracy_score, recall_score, precision_score, f1_score\n",
    "from sklearn.metrics import confusion_matrix, classification_report, roc_curve, roc_auc_score\n",
    "from sklearn.metrics import precision_recall_curve, auc, average_precision_score"
   ]
  },
  {
   "cell_type": "code",
   "execution_count": 2,
   "metadata": {},
   "outputs": [
    {
     "name": "stdout",
     "output_type": "stream",
     "text": [
      "   home_ownership  income    dti  fico_low  loan_status\n",
      "0               1  44.304  18.47       690            0\n",
      "1               0  38.500  33.73       660            0\n",
      "2               1  54.000  19.00       660            0\n",
      "3               1  60.000  33.98       695            0\n",
      "4               0  39.354  10.85       685            0\n",
      "--------------------------------\n",
      "   home_ownership  income    dti  fico_low  loan_status\n",
      "0               1   127.0  10.94       675            0\n",
      "1               1   197.0  15.64       710            0\n",
      "2               1    25.5  28.75       670            0\n",
      "3               1    80.0  20.16       660            0\n",
      "4               0    57.0  30.60       675            0\n"
     ]
    }
   ],
   "source": [
    "train = pd.read_excel('lendingclub_traindata.xlsx')\n",
    "test = pd.read_excel('lendingclub_testdata.xlsx')\n",
    "\n",
    "# 1 = good, 0 = default\n",
    "\n",
    "# give column names\n",
    "cols = ['home_ownership', 'income', 'dti', 'fico_low', 'loan_status']\n",
    "train.columns = test.columns = cols\n",
    "\n",
    "print(train.head())\n",
    "print(\"--------------------------------\")\n",
    "print(test.head())"
   ]
  },
  {
   "cell_type": "markdown",
   "metadata": {},
   "source": [
    "For the purposes of this exercise, the dataset has already been split into train and test set. There are 8695 instances of training set and 5916 instances of test set with with four features and one target. The four features are home_ownership, income, dti and fico_low and the target is loan status that includes either fully paid or defaulted loans only. "
   ]
  },
  {
   "cell_type": "code",
   "execution_count": 3,
   "metadata": {},
   "outputs": [
    {
     "name": "stdout",
     "output_type": "stream",
     "text": [
      "(8695, 4) (8695,) (5916, 4) (5916,)\n"
     ]
    },
    {
     "data": {
      "text/plain": [
       "Index(['home_ownership', 'income', 'dti', 'fico_low'], dtype='object')"
      ]
     },
     "execution_count": 3,
     "metadata": {},
     "output_type": "execute_result"
    }
   ],
   "source": [
    "# remove target column to create feature only dataset\n",
    "X_train = train.drop('loan_status', 1)\n",
    "X_test = test.drop('loan_status', 1)\n",
    "\n",
    "# store target column\n",
    "y_train = train['loan_status']\n",
    "y_test = test['loan_status']\n",
    "\n",
    "print(X_train.shape, y_train.shape, X_test.shape, y_test.shape)\n",
    "X_train.columns"
   ]
  },
  {
   "cell_type": "code",
   "execution_count": 4,
   "metadata": {},
   "outputs": [
    {
     "data": {
      "text/plain": [
       "0.8276020701552617"
      ]
     },
     "execution_count": 4,
     "metadata": {},
     "output_type": "execute_result"
    }
   ],
   "source": [
    "majority_class = y_train.mode()[0]        # predict fully paid only\n",
    "prediction = np.full(shape=y_train.shape, fill_value=majority_class)\n",
    "accuracy_score(y_train, prediction)"
   ]
  },
  {
   "cell_type": "code",
   "execution_count": 5,
   "metadata": {},
   "outputs": [
    {
     "data": {
      "text/plain": [
       "1    82.760207\n",
       "0    17.239793\n",
       "Name: loan_status, dtype: float64"
      ]
     },
     "execution_count": 5,
     "metadata": {},
     "output_type": "execute_result"
    }
   ],
   "source": [
    "freq = y_train.value_counts()           # count frequency of different classes in loan status\n",
    "freq/sum(freq)*100                      # get percentage of above"
   ]
  },
  {
   "cell_type": "markdown",
   "metadata": {},
   "source": []
  },
  {
   "cell_type": "code",
   "execution_count": 6,
   "metadata": {},
   "outputs": [
    {
     "name": "stdout",
     "output_type": "stream",
     "text": [
      "[-6.56518725] [[ 0.13949599  0.00410667 -0.00112302  0.01125204]]\n"
     ]
    }
   ],
   "source": [
    "lgstc_reg =  LogisticRegression(penalty=\"none\", solver='newton-cg')     # create an instance of logistic regression\n",
    "\n",
    "lgstc_reg.fit(X_train, y_train)                                                             # fit training data on logistic regression \n",
    "\n",
    "print(lgstc_reg.intercept_, lgstc_reg.coef_)                                                # get the coefficients of each features"
   ]
  },
  {
   "cell_type": "markdown",
   "metadata": {},
   "source": [
    "<br>\n",
    "The bias is estimated as -6.56517476. The coefficient of the logistic regression are 0.13949599 for home_ownership, 0.0041 0667 for income, -0.00112303 for dti and 0.01125202 for fico_low. These are the weights (parameters) that maximizes the likelihood of producing our given data and hence gives us the least error in predicting our response variable.\n",
    "\n",
    "The question of how to evaluate the model is of the utmost importance. This is where we will test the model's performance on an unseen test set and check the results of our chosen measure of success. This step is meant to be representative of how the model might perform in the real world."
   ]
  },
  {
   "cell_type": "code",
   "execution_count": 7,
   "metadata": {},
   "outputs": [],
   "source": [
    "y_pred = lgstc_reg.predict(X_test)                           # predict default loans based on test data set\n"
   ]
  },
  {
   "cell_type": "markdown",
   "metadata": {},
   "source": [
    "<br> \n",
    "An analyst must decide on a criterion for predicting whether loan will be good or default. This involves specifying a threshold By default this threshold is set to 0.5, i.e., loans are separated into good and bad categories according to whether the probability of no default is greater or less than 0.5. However this does not work well for an imbalanced data set such as this. It would predict that all loans are good!We will look at the results for few other thresholds. \n",
    "\n"
   ]
  },
  {
   "cell_type": "code",
   "execution_count": 11,
   "metadata": {},
   "outputs": [
    {
     "name": "stdout",
     "output_type": "stream",
     "text": [
      "Confusion matrix for threshold = 0.75\n",
      "[[77.5862069   4.5300879 ]\n",
      " [16.26098715  1.62271805]]\n",
      " \n",
      "Confusion matrix for threshold = 0.8\n",
      "[[55.34144692 26.77484787]\n",
      " [ 9.75321163  8.13049358]]\n",
      " \n",
      "Confusion matrix for threshold = 0.85\n",
      "[[28.65111562 53.46517918]\n",
      " [ 3.73563218 14.14807302]]\n",
      " \n",
      "ALL METRICS\n",
      "                   0         1         2\n",
      "THRESHOLD       0.75       0.8      0.85\n",
      "accuracy    0.792089  0.634719  0.427992\n",
      "recall      0.944833   0.67394  0.348909\n",
      "tnr        0.0907372  0.454631  0.791115\n",
      "fpr         0.909263  0.545369  0.208885\n",
      "precision   0.826729  0.850169  0.884656\n",
      "f1_score    0.881844  0.751866  0.500443\n"
     ]
    }
   ],
   "source": [
    "THRESHOLD = [.75, .80, .85]\n",
    "results = pd.DataFrame(columns=[\"THRESHOLD\", \"accuracy\", \"recall\", \"tnr\", \"fpr\", \"precision\", \"f1_score\"]) # df to store results\n",
    "results['THRESHOLD'] = THRESHOLD                                                                           # threshold column\n",
    "             \n",
    "j = 0                                                                                                      \n",
    "for i in THRESHOLD:                                                                                        # iterate over each threshold    \n",
    "    \n",
    "    \n",
    "    lgstc_reg.fit(X_train, y_train)                                                                        # fit data to model\n",
    "    preds = np.where(lgstc_reg.predict_proba(X_test)[:,1] > i, 1, 0)                                       # if prob > threshold, predict 1\n",
    "    \n",
    "    cm = (confusion_matrix(y_test, preds,labels=[1, 0], sample_weight=None) / 5916 )*100                   # confusion matrix (in percentage)\n",
    "    \n",
    "    print('Confusion matrix for threshold =',i)\n",
    "    print(cm)\n",
    "    print(' ')      \n",
    "    \n",
    "    TP = cm[0][0]                                                                                          # True Positives\n",
    "    FN = cm[0][1]                                                                                          # False Positives\n",
    "    FP = cm[1][0]                                                                                          # True Negatives\n",
    "    TN = cm[1][1]                                                                                          # False Negatives\n",
    "        \n",
    "    results.iloc[j,1] = accuracy_score(y_test, preds) \n",
    "    results.iloc[j,2] = recall_score(y_test, preds)\n",
    "    results.iloc[j,3] = TN/(FP+TN)                                                                         # True negative rate\n",
    "    results.iloc[j,4] = FP/(FP+TN)                                                                         # False positive rate\n",
    "    results.iloc[j,5] = precision_score(y_test, preds)\n",
    "    results.iloc[j,6] = f1_score(y_test, preds)\n",
    "   \n",
    "   \n",
    "    j += 1\n",
    "\n",
    "print('ALL METRICS')\n",
    "print( results.T)\n",
    "\n",
    "    \n",
    "    \n",
    "   "
   ]
  },
  {
   "cell_type": "markdown",
   "metadata": {},
   "source": [
    "<br>\n",
    "We note here from the confusion matrix at threshold 0.75 that while the model is good at identifying good loans, however it isn't good at identifying the bad loans at all.\n",
    "\n",
    "We also note that increasing the threshold results in decrease in overall accuracy. But the percentage of default loans identified as default is higher with increasing threshold. We know by now that maximizing the accuracy does not necessarily create the best model. Thus, lets look at some other metrics."
   ]
  },
  {
   "cell_type": "code",
   "execution_count": 12,
   "metadata": {},
   "outputs": [
    {
     "name": "stdout",
     "output_type": "stream",
     "text": [
      "ALL METRICS\n",
      "                   0         1         2\n",
      "THRESHOLD       0.75       0.8      0.85\n",
      "accuracy    0.792089  0.634719  0.427992\n",
      "recall      0.944833   0.67394  0.348909\n",
      "tnr        0.0907372  0.454631  0.791115\n",
      "fpr         0.909263  0.545369  0.208885\n",
      "precision   0.826729  0.850169  0.884656\n",
      "f1_score    0.881844  0.751866  0.500443\n"
     ]
    }
   ],
   "source": [
    "print( 'ALL METRICS' )\n",
    "print( results.T )"
   ]
  },
  {
   "cell_type": "code",
   "execution_count": 13,
   "metadata": {},
   "outputs": [
    {
     "name": "stdout",
     "output_type": "stream",
     "text": [
      "0.5\n",
      "0.6019668412790937\n"
     ]
    },
    {
     "data": {
      "image/png": "[encoded data removed]",
      "text/plain": [
       "<Figure size 432x288 with 1 Axes>"
      ]
     },
     "metadata": {
      "needs_background": "light"
     },
     "output_type": "display_data"
    }
   ],
   "source": [
    "lr_prob=lgstc_reg.predict_proba(X_test)\n",
    "lr_prob=lr_prob[:, 1]\n",
    "ns_prob=[0 for _ in range(len(y_test))]\n",
    "ns_auc=roc_auc_score(y_test, ns_prob)\n",
    "lr_auc=roc_auc_score(y_test,lr_prob)\n",
    "print(ns_auc)\n",
    "print(lr_auc)\n",
    "ns_fpr,ns_tpr,_=roc_curve(y_test,ns_prob)\n",
    "lr_fpr,lr_tpr,_=roc_curve(y_test,lr_prob)\n",
    "\n",
    "plt.plot(ns_fpr,ns_tpr,linestyle='--',label='Random Predction')\n",
    "plt.plot(lr_fpr,lr_tpr,marker='.',label='Logistic Regression')\n",
    "\n",
    "plt.xlabel('False Positive Rate')\n",
    "plt.ylabel('True Positive Rate')\n",
    "plt.legend()\n",
    "plt.show()"
   ]
  },
  {
   "cell_type": "markdown",
   "metadata": {},
   "source": [
    "<br>\n",
    "Recall and true negative rate are also decreasing with increase in threshold rate. However, precision and false positive rate are increasing with increasing threshold. "
   ]
  }
 ],
 "metadata": {
  "kernelspec": {
   "display_name": "Python 3",
   "language": "python",
   "name": "python3"
  },
  "language_info": {
   "codemirror_mode": {
    "name": "ipython",
    "version": 3
   },
   "file_extension": ".py",
   "mimetype": "text/x-python",
   "name": "python",
   "nbconvert_exporter": "python",
   "pygments_lexer": "ipython3",
   "version": "3.7.4"
  }
 },
 "nbformat": 4,
 "nbformat_minor": 2
}
