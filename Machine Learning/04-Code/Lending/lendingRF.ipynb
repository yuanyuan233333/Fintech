{
 "cells": [
  {
   "cell_type": "markdown",
   "metadata": {},
   "source": [
    "LENDING - RF Version (c) Daniele Marazzina"
   ]
  },
  {
   "cell_type": "code",
   "execution_count": 1,
   "metadata": {},
   "outputs": [],
   "source": [
    "import pandas as pd\n",
    "import numpy as np\n",
    "import seaborn as sns\n",
    "import matplotlib.pyplot as plt\n",
    "from IPython.display import Image\n",
    "from sklearn.ensemble import RandomForestClassifier\n",
    "from sklearn.model_selection import train_test_split\n",
    "from sklearn.metrics import accuracy_score, recall_score, precision_score, f1_score\n",
    "from sklearn.metrics import confusion_matrix, classification_report, roc_auc_score\n",
    "from sklearn.metrics import roc_curve, auc, average_precision_score"
   ]
  },
  {
   "cell_type": "code",
   "execution_count": 8,
   "metadata": {},
   "outputs": [],
   "source": [
    "df = pd.read_excel('lendingclub_fulldata.xlsx')\n",
    "# 1 = good, 0 = default\n",
    "\n",
    "# splitting in training and test...\n",
    "train_predictors, rest_predictors, train_response, rest_response = train_test_split(\n",
    "       df.drop('loan_status', axis=1), df['loan_status'], train_size=0.7, random_state=0)\n",
    "\n",
    "# We set hyperparameters a priori --> no validation set required\n",
    "test_predictors=rest_predictors\n",
    "test_response=rest_response\n",
    "\n"
   ]
  },
  {
   "cell_type": "code",
   "execution_count": 9,
   "metadata": {},
   "outputs": [
    {
     "data": {
      "text/plain": [
       "RandomForestClassifier(max_depth=50, min_impurity_decrease=0,\n",
       "                       min_samples_leaf=10, min_samples_split=10,\n",
       "                       n_estimators=50)"
      ]
     },
     "execution_count": 9,
     "metadata": {},
     "output_type": "execute_result"
    }
   ],
   "source": [
    "  # model definition + training\n",
    "n_estimators = 50\n",
    "max_depth = 50\n",
    "min_samples_split = 10\n",
    "min_samples_leaf = 10\n",
    "min_impurity_decrease = 0\n",
    "parameters = {\"n_estimators\": n_estimators,\n",
    "      \"max_depth\": max_depth,\n",
    "      \"min_samples_split\": min_samples_split,\n",
    "      \"min_samples_leaf\": min_samples_leaf,\n",
    "     \"min_impurity_decrease\": min_impurity_decrease,\n",
    "       }\n",
    "classifier = RandomForestClassifier(**parameters)\n",
    "classifier.fit(train_predictors, train_response)"
   ]
  },
  {
   "cell_type": "code",
   "execution_count": 10,
   "metadata": {},
   "outputs": [],
   "source": [
    "y_test = test_response\n",
    "y_pred = classifier.predict(test_predictors)"
   ]
  },
  {
   "cell_type": "code",
   "execution_count": 11,
   "metadata": {
    "scrolled": false
   },
   "outputs": [
    {
     "name": "stdout",
     "output_type": "stream",
     "text": [
      "Confusion matrix for threshold = 0.5\n",
      "[[8.25045620e+01 6.84306569e-02]\n",
      " [1.74041971e+01 2.28102190e-02]]\n",
      " \n",
      "Confusion matrix for threshold = 0.75\n",
      "[[66.9479927 15.625    ]\n",
      " [12.5        4.9270073]]\n",
      " \n",
      "Confusion matrix for threshold = 0.8\n",
      "[[54.12864964 28.44434307]\n",
      " [ 9.44343066  7.98357664]]\n",
      " \n",
      "Confusion matrix for threshold = 0.85\n",
      "[[37.47718978 45.09580292]\n",
      " [ 5.8850365  11.5419708 ]]\n",
      " \n",
      "ALL METRICS\n",
      "THRESHOLD        0.5      0.75       0.8      0.85\n",
      "accuracy    0.825274   0.71875  0.621122  0.490192\n",
      "recall      0.999171  0.810773  0.655525  0.453867\n",
      "tnr        0.0013089  0.282723  0.458115  0.662304\n",
      "fpr         0.998691  0.717277  0.541885  0.337696\n",
      "precision   0.825799  0.842664  0.851453  0.864282\n",
      "f1_score     0.90425  0.826411  0.740752  0.595182\n"
     ]
    }
   ],
   "source": [
    "THRESHOLD = [.5, .75, .80, .85]\n",
    "results = pd.DataFrame(columns=[\"THRESHOLD\", \"accuracy\", \"recall\", \"tnr\", \"fpr\", \"precision\", \"f1_score\"]) # df to store results\n",
    "results['THRESHOLD'] = THRESHOLD                                                                           # threshold column\n",
    "n_test = len(y_test)\n",
    "Q = classifier.predict_proba(test_predictors)[:,1]\n",
    "j = 0                                                                                                      \n",
    "for i in THRESHOLD:                                                                                        # iterate over each threshold        \n",
    "                                                                         # fit data to model\n",
    "    preds = np.where(Q>i, 1, 0)                                       # if prob > threshold, predict 1\n",
    "    \n",
    "    cm = (confusion_matrix(y_test, preds,labels=[1, 0], sample_weight=None)/n_test)*100 \n",
    "    # confusion matrix (in percentage)\n",
    "    \n",
    "    print('Confusion matrix for threshold =',i)\n",
    "    print(cm)\n",
    "    print(' ')      \n",
    "    \n",
    "    TP = cm[0][0]                                                                                          # True Positives\n",
    "    FN = cm[0][1]                                                                                          # False Positives\n",
    "    FP = cm[1][0]                                                                                          # True Negatives\n",
    "    TN = cm[1][1]                                                                                          # False Negatives\n",
    "        \n",
    "    results.iloc[j,1] = accuracy_score(y_test, preds) \n",
    "    results.iloc[j,2] = recall_score(y_test, preds)\n",
    "    results.iloc[j,3] = TN/(FP+TN)                                                                         # True negative rate\n",
    "    results.iloc[j,4] = FP/(FP+TN)                                                                         # False positive rate\n",
    "    results.iloc[j,5] = precision_score(y_test, preds)\n",
    "    results.iloc[j,6] = f1_score(y_test, preds)\n",
    "   \n",
    "    j += 1\n",
    "\n",
    "print('ALL METRICS')\n",
    "print(results.T.to_string(header=False))"
   ]
  },
  {
   "cell_type": "code",
   "execution_count": 12,
   "metadata": {},
   "outputs": [],
   "source": [
    "# Compute the ROC curve and AUC\n",
    "fpr, tpr, _ = roc_curve(y_test, Q)\n",
    "roc_auc = auc(fpr,tpr)"
   ]
  },
  {
   "cell_type": "code",
   "execution_count": 13,
   "metadata": {},
   "outputs": [
    {
     "data": {
      "image/png": "[encoded data removed]",
      "text/plain": [
       "<Figure size 576x432 with 1 Axes>"
      ]
     },
     "metadata": {
      "needs_background": "light"
     },
     "output_type": "display_data"
    }
   ],
   "source": [
    "plt.figure(figsize=(8,6))      # format the plot size\n",
    "lw = 1.5\n",
    "plt.plot(fpr, tpr, color='darkorange', marker='.',\n",
    "         lw=lw, label='Random Forest (AUC = %0.4f)' % roc_auc)\n",
    "plt.plot([0, 1], [0, 1], color='navy', lw=lw, linestyle='--',\n",
    "         label='Random Prediction (AUC = 0.5)' )\n",
    "plt.xlim([0.0, 1.0])\n",
    "plt.ylim([0.0, 1.0])\n",
    "plt.xlabel('False Positive Rate')\n",
    "plt.ylabel('True Positive Rate')\n",
    "plt.title('Receiver operating characteristic curve')\n",
    "plt.legend(loc=\"lower right\")\n",
    "plt.show()"
   ]
  },
  {
   "cell_type": "code",
   "execution_count": null,
   "metadata": {},
   "outputs": [],
   "source": []
  }
 ],
 "metadata": {
  "kernelspec": {
   "display_name": "Python 3",
   "language": "python",
   "name": "python3"
  },
  "language_info": {
   "codemirror_mode": {
    "name": "ipython",
    "version": 3
   },
   "file_extension": ".py",
   "mimetype": "text/x-python",
   "name": "python",
   "nbconvert_exporter": "python",
   "pygments_lexer": "ipython3",
   "version": "3.7.4"
  }
 },
 "nbformat": 4,
 "nbformat_minor": 2
}
