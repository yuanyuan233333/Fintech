{
 "cells": [
  {
   "cell_type": "markdown",
   "metadata": {},
   "source": [
    "LENDING - RF Version (c) Daniele Marazzina"
   ]
  },
  {
   "cell_type": "code",
   "execution_count": 1,
   "metadata": {},
   "outputs": [],
   "source": [
    "import pandas as pd\n",
    "import numpy as np\n",
    "import seaborn as sns\n",
    "import matplotlib.pyplot as plt\n",
    "from IPython.display import Image\n",
    "from sklearn.ensemble import RandomForestClassifier\n",
    "from sklearn.model_selection import train_test_split\n",
    "from sklearn.metrics import accuracy_score, recall_score, precision_score, f1_score\n",
    "from sklearn.metrics import confusion_matrix, classification_report, roc_auc_score\n",
    "from sklearn.metrics import roc_curve, auc, average_precision_score"
   ]
  },
  {
   "cell_type": "code",
   "execution_count": 2,
   "metadata": {},
   "outputs": [],
   "source": [
    "df = pd.read_excel('lendingclub_fulldata.xlsx')\n",
    "# 1 = good, 0 = default\n",
    "\n",
    "# splitting in training, validation and test...\n",
    "train_predictors, rest_predictors, train_response, rest_response = train_test_split(\n",
    "       df.drop('loan_status', axis=1), df['loan_status'], train_size=0.7, random_state=0)\n",
    "\n",
    "validation_predictors, test_predictors, validation_response, test_response = train_test_split(\n",
    "rest_predictors, rest_response, train_size=0.5, random_state=0)"
   ]
  },
  {
   "cell_type": "code",
   "execution_count": 3,
   "metadata": {},
   "outputs": [
    {
     "name": "stdout",
     "output_type": "stream",
     "text": [
      "hyperparameters set 0 - AUC = 0.6087\n",
      "hyperparameters set 1 - AUC = 0.5967\n",
      "hyperparameters set 2 - AUC = 0.5975\n",
      "hyperparameters set 3 - AUC = 0.6127\n",
      "hyperparameters set 4 - AUC = 0.6105\n",
      "hyperparameters set 5 - AUC = 0.6103\n",
      "hyperparameters set 6 - AUC = 0.6150\n",
      "hyperparameters set 7 - AUC = 0.6159\n",
      "hyperparameters set 8 - AUC = 0.6140\n",
      "hyperparameters set 9 - AUC = 0.6162\n"
     ]
    }
   ],
   "source": [
    "for i in range(10):\n",
    "    # model definition + training\n",
    "    n_estimators = 10*(i+1)\n",
    "    max_depth = 10*(i+1)\n",
    "    min_samples_split = 4*(i+1)\n",
    "    min_samples_leaf = 4*(i+1)\n",
    "    min_impurity_decrease = 0\n",
    "    parameters = {\"n_estimators\": n_estimators,\n",
    "      \"max_depth\": max_depth,\n",
    "      \"min_samples_split\": min_samples_split,\n",
    "      \"min_samples_leaf\": min_samples_leaf,\n",
    "      \"min_impurity_decrease\": min_impurity_decrease,\n",
    "      \"random_state\": 0,\n",
    "       }\n",
    "    classifier = RandomForestClassifier(**parameters)\n",
    "    classifier.fit(train_predictors, train_response)\n",
    "    # Compute the ROC curve and AUC\n",
    "    y_val = validation_response\n",
    "    Q = classifier.predict_proba(validation_predictors)[:,1]\n",
    "    fpr, tpr, _ = roc_curve(y_val, Q)\n",
    "    roc_auc = auc(fpr,tpr)\n",
    "    print('hyperparameters set %d - AUC = %0.4f' % (i, roc_auc))"
   ]
  },
  {
   "cell_type": "code",
   "execution_count": 4,
   "metadata": {},
   "outputs": [],
   "source": [
    "# Measure overall quality of our classifier"
   ]
  },
  {
   "cell_type": "code",
   "execution_count": 5,
   "metadata": {},
   "outputs": [
    {
     "data": {
      "text/plain": [
       "RandomForestClassifier(bootstrap=True, class_weight=None, criterion='gini',\n",
       "                       max_depth=80, max_features='auto', max_leaf_nodes=None,\n",
       "                       min_impurity_decrease=0, min_impurity_split=None,\n",
       "                       min_samples_leaf=32, min_samples_split=32,\n",
       "                       min_weight_fraction_leaf=0.0, n_estimators=80,\n",
       "                       n_jobs=None, oob_score=False, random_state=0, verbose=0,\n",
       "                       warm_start=False)"
      ]
     },
     "execution_count": 5,
     "metadata": {},
     "output_type": "execute_result"
    }
   ],
   "source": [
    "i=7\n",
    "n_estimators = 10*(i+1)\n",
    "max_depth = 10*(i+1)\n",
    "min_samples_split = 4*(i+1)\n",
    "min_samples_leaf = 4*(i+1)\n",
    "min_impurity_decrease = 0\n",
    "parameters = {\"n_estimators\": n_estimators,\n",
    "      \"max_depth\": max_depth,\n",
    "      \"min_samples_split\": min_samples_split,\n",
    "      \"min_samples_leaf\": min_samples_leaf,\n",
    "      \"min_impurity_decrease\": min_impurity_decrease,\n",
    "      \"random_state\": 0,\n",
    "       }\n",
    "classifier = RandomForestClassifier(**parameters)\n",
    "classifier.fit(train_predictors, train_response)"
   ]
  },
  {
   "cell_type": "code",
   "execution_count": 6,
   "metadata": {},
   "outputs": [],
   "source": [
    "y_test = test_response\n",
    "y_pred = classifier.predict(test_predictors)"
   ]
  },
  {
   "cell_type": "code",
   "execution_count": 7,
   "metadata": {},
   "outputs": [
    {
     "name": "stdout",
     "output_type": "stream",
     "text": [
      "Confusion matrix for threshold = 0.5\n",
      "[[83.07481752  0.        ]\n",
      " [16.92518248  0.        ]]\n",
      " \n",
      "Confusion matrix for threshold = 0.75\n",
      "[[71.21350365 11.86131387]\n",
      " [13.04744526  3.87773723]]\n",
      " \n",
      "Confusion matrix for threshold = 0.8\n",
      "[[55.83941606 27.23540146]\n",
      " [ 9.16970803  7.75547445]]\n",
      " \n",
      "Confusion matrix for threshold = 0.85\n",
      "[[37.22627737 45.84854015]\n",
      " [ 5.38321168 11.5419708 ]]\n",
      " \n",
      "ALL METRICS\n",
      "THRESHOLD       0.5      0.75       0.8      0.85\n",
      "accuracy   0.830748  0.750912  0.635949  0.487682\n",
      "recall            1  0.857221  0.672158  0.448105\n",
      "tnr               0  0.229111  0.458221  0.681941\n",
      "fpr               1  0.770889  0.541779  0.318059\n",
      "precision  0.830748  0.845154  0.858947  0.873662\n",
      "f1_score    0.90755  0.851145  0.754159  0.592377\n"
     ]
    }
   ],
   "source": [
    "THRESHOLD = [.5, .75, .80, .85]\n",
    "results = pd.DataFrame(columns=[\"THRESHOLD\", \"accuracy\", \"recall\", \"tnr\", \"fpr\", \"precision\", \"f1_score\"]) # df to store results\n",
    "results['THRESHOLD'] = THRESHOLD                                                                           # threshold column\n",
    "n_test = len(y_test)\n",
    "Q = classifier.predict_proba(test_predictors)[:,1]\n",
    "j = 0                                                                                                      \n",
    "for i in THRESHOLD:                                                                                        # iterate over each threshold        \n",
    "                                                                         # fit data to model\n",
    "    preds = np.where(Q>i, 1, 0)                                       # if prob > threshold, predict 1\n",
    "    \n",
    "    cm = (confusion_matrix(y_test, preds,labels=[1, 0], sample_weight=None)/n_test)*100 \n",
    "    # confusion matrix (in percentage)\n",
    "    \n",
    "    print('Confusion matrix for threshold =',i)\n",
    "    print(cm)\n",
    "    print(' ')      \n",
    "    \n",
    "    TP = cm[0][0]                                                                                          # True Positives\n",
    "    FN = cm[0][1]                                                                                          # False Positives\n",
    "    FP = cm[1][0]                                                                                          # True Negatives\n",
    "    TN = cm[1][1]                                                                                          # False Negatives\n",
    "        \n",
    "    results.iloc[j,1] = accuracy_score(y_test, preds) \n",
    "    results.iloc[j,2] = recall_score(y_test, preds)\n",
    "    results.iloc[j,3] = TN/(FP+TN)                                                                         # True negative rate\n",
    "    results.iloc[j,4] = FP/(FP+TN)                                                                         # False positive rate\n",
    "    results.iloc[j,5] = precision_score(y_test, preds)\n",
    "    results.iloc[j,6] = f1_score(y_test, preds)\n",
    "   \n",
    "    j += 1\n",
    "\n",
    "print('ALL METRICS')\n",
    "print(results.T.to_string(header=False))"
   ]
  },
  {
   "cell_type": "code",
   "execution_count": 8,
   "metadata": {},
   "outputs": [
    {
     "data": {
      "image/png": "[encoded data removed]",
      "text/plain": [
       "<Figure size 576x432 with 1 Axes>"
      ]
     },
     "metadata": {
      "needs_background": "light"
     },
     "output_type": "display_data"
    }
   ],
   "source": [
    "plt.figure(figsize=(8,6))      # format the plot size\n",
    "lw = 1.5\n",
    "plt.plot(fpr, tpr, color='darkorange', marker='.',\n",
    "         lw=lw, label='Random Forest (AUC = %0.4f)' % roc_auc)\n",
    "plt.plot([0, 1], [0, 1], color='navy', lw=lw, linestyle='--',\n",
    "         label='Random Prediction (AUC = 0.5)' )\n",
    "plt.xlim([0.0, 1.0])\n",
    "plt.ylim([0.0, 1.0])\n",
    "plt.xlabel('False Positive Rate')\n",
    "plt.ylabel('True Positive Rate')\n",
    "plt.title('Receiver operating characteristic curve')\n",
    "plt.legend(loc=\"lower right\")\n",
    "plt.show()"
   ]
  },
  {
   "cell_type": "code",
   "execution_count": null,
   "metadata": {},
   "outputs": [],
   "source": []
  }
 ],
 "metadata": {
  "kernelspec": {
   "display_name": "Python 3",
   "language": "python",
   "name": "python3"
  },
  "language_info": {
   "codemirror_mode": {
    "name": "ipython",
    "version": 3
   },
   "file_extension": ".py",
   "mimetype": "text/x-python",
   "name": "python",
   "nbconvert_exporter": "python",
   "pygments_lexer": "ipython3",
   "version": "3.7.4"
  }
 },
 "nbformat": 4,
 "nbformat_minor": 2
}
