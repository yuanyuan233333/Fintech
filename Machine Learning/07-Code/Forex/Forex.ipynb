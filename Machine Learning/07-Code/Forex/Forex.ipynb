{
 "cells": [
  {
   "cell_type": "code",
   "execution_count": 1,
   "metadata": {
    "pycharm": {
     "is_executing": true
    }
   },
   "outputs": [],
   "source": [
    "from matplotlib import pyplot as plt\n",
    "import importlib\n",
    "import logging\n",
    "\n",
    "from collections import Counter\n",
    "\n",
    "import numpy as np\n",
    "import pandas as pd\n",
    "\n",
    "from src.data_import import Importing as importing\n",
    "from src.fqi.FQI import FQI\n",
    "from src.policy.QPolicy import QPolicy\n",
    "from src.rewards.Position import Position\n",
    "from src.rewards.UnrealizedReward import UnrealizedReward\n",
    "from src.utils import set_position, create_all_combination, is_parallelizable"
   ]
  },
  {
   "cell_type": "code",
   "execution_count": 2,
   "metadata": {
    "pycharm": {
     "is_executing": true,
     "name": "#%%\n"
    }
   },
   "outputs": [],
   "source": [
    "def random_action(state):\n",
    "    the_random_action = pd.Series(np.random.randint(-1, 2, state.shape[0]), dtype='category') #values: -1, 0, 1\n",
    "    return the_random_action.rename('action')\n",
    "def possible_actions(integer_positions):\n",
    "    return [Position(integer) for integer in integer_positions]"
   ]
  },
  {
   "cell_type": "code",
   "execution_count": 3,
   "metadata": {
    "pycharm": {
     "is_executing": true,
     "name": "#%%\n"
    }
   },
   "outputs": [],
   "source": [
    "start_date = \"01/01\"\n",
    "end_date = \"12/31\"\n",
    "historical_observations =2\n",
    "columns_with_historical = [ \"log_close\"      ]\n",
    "starting_time = 60\n",
    "columns_with_current = [\"open\", \"close\"]\n",
    "fee =1e-05\n",
    "position_size = 10000\n",
    "action_set = [1,-1,0]\n",
    "model_name = \"RandomForest\"\n",
    "model_parameters= {\n",
    "            \"n_estimators\":4 ,\n",
    "            \"criterion\": \"mse\",\n",
    "            \"n_jobs\": -1,\n",
    "            \"min_impurity_decrease\": 0.0001\n",
    "        }\n",
    "max_iteration =5\n",
    "discount =0.99\n",
    "run_parameters = {}"
   ]
  },
  {
   "cell_type": "code",
   "execution_count": 4,
   "metadata": {
    "pycharm": {
     "is_executing": true,
     "name": "#%%\n"
    }
   },
   "outputs": [
    {
     "name": "stdout",
     "output_type": "stream",
     "text": [
      "Reading training set from file  ...\n",
      "...Done\n"
     ]
    }
   ],
   "source": [
    "print('Reading training set from file  ...')\n",
    "file_data = importing.import_df(\"2016-EURUSD-1m.csv\")\n",
    "print('...Done')\n",
    "\n",
    "\n"
   ]
  },
  {
   "cell_type": "code",
   "execution_count": 5,
   "metadata": {},
   "outputs": [
    {
     "data": {
      "text/html": [
       "<div>\n",
       "<style scoped>\n",
       "    .dataframe tbody tr th:only-of-type {\n",
       "        vertical-align: middle;\n",
       "    }\n",
       "\n",
       "    .dataframe tbody tr th {\n",
       "        vertical-align: top;\n",
       "    }\n",
       "\n",
       "    .dataframe thead th {\n",
       "        text-align: right;\n",
       "    }\n",
       "</style>\n",
       "<table border=\"1\" class=\"dataframe\">\n",
       "  <thead>\n",
       "    <tr style=\"text-align: right;\">\n",
       "      <th></th>\n",
       "      <th>date</th>\n",
       "      <th>time_min</th>\n",
       "      <th>close</th>\n",
       "      <th>open</th>\n",
       "      <th>high</th>\n",
       "      <th>low</th>\n",
       "      <th>minute</th>\n",
       "      <th>log_open</th>\n",
       "      <th>log_close</th>\n",
       "      <th>log_high</th>\n",
       "      <th>log_low</th>\n",
       "      <th>volume</th>\n",
       "      <th>datetime</th>\n",
       "    </tr>\n",
       "  </thead>\n",
       "  <tbody>\n",
       "    <tr>\n",
       "      <th>0</th>\n",
       "      <td>01/04</td>\n",
       "      <td>01:00</td>\n",
       "      <td>1.0847</td>\n",
       "      <td>1.0846</td>\n",
       "      <td>1.0847</td>\n",
       "      <td>1.0845</td>\n",
       "      <td>60.0</td>\n",
       "      <td>0.000000</td>\n",
       "      <td>0.000092</td>\n",
       "      <td>0.000092</td>\n",
       "      <td>-0.000092</td>\n",
       "      <td>1.000000</td>\n",
       "      <td>2016-01-04 01:00:00</td>\n",
       "    </tr>\n",
       "    <tr>\n",
       "      <th>1</th>\n",
       "      <td>01/04</td>\n",
       "      <td>01:01</td>\n",
       "      <td>1.0846</td>\n",
       "      <td>1.0847</td>\n",
       "      <td>1.0847</td>\n",
       "      <td>1.0846</td>\n",
       "      <td>61.0</td>\n",
       "      <td>0.000092</td>\n",
       "      <td>0.000000</td>\n",
       "      <td>0.000092</td>\n",
       "      <td>0.000000</td>\n",
       "      <td>1.038156</td>\n",
       "      <td>2016-01-04 01:01:00</td>\n",
       "    </tr>\n",
       "    <tr>\n",
       "      <th>2</th>\n",
       "      <td>01/04</td>\n",
       "      <td>01:02</td>\n",
       "      <td>1.0845</td>\n",
       "      <td>1.0846</td>\n",
       "      <td>1.0846</td>\n",
       "      <td>1.0845</td>\n",
       "      <td>62.0</td>\n",
       "      <td>0.000000</td>\n",
       "      <td>-0.000092</td>\n",
       "      <td>0.000000</td>\n",
       "      <td>-0.000092</td>\n",
       "      <td>1.322734</td>\n",
       "      <td>2016-01-04 01:02:00</td>\n",
       "    </tr>\n",
       "    <tr>\n",
       "      <th>3</th>\n",
       "      <td>01/04</td>\n",
       "      <td>01:03</td>\n",
       "      <td>1.0843</td>\n",
       "      <td>1.0845</td>\n",
       "      <td>1.0845</td>\n",
       "      <td>1.0842</td>\n",
       "      <td>63.0</td>\n",
       "      <td>-0.000092</td>\n",
       "      <td>-0.000277</td>\n",
       "      <td>-0.000092</td>\n",
       "      <td>-0.000369</td>\n",
       "      <td>1.701113</td>\n",
       "      <td>2016-01-04 01:03:00</td>\n",
       "    </tr>\n",
       "    <tr>\n",
       "      <th>4</th>\n",
       "      <td>01/04</td>\n",
       "      <td>01:04</td>\n",
       "      <td>1.0843</td>\n",
       "      <td>1.0843</td>\n",
       "      <td>1.0843</td>\n",
       "      <td>1.0843</td>\n",
       "      <td>64.0</td>\n",
       "      <td>-0.000277</td>\n",
       "      <td>-0.000277</td>\n",
       "      <td>-0.000277</td>\n",
       "      <td>-0.000277</td>\n",
       "      <td>1.915739</td>\n",
       "      <td>2016-01-04 01:04:00</td>\n",
       "    </tr>\n",
       "    <tr>\n",
       "      <th>...</th>\n",
       "      <td>...</td>\n",
       "      <td>...</td>\n",
       "      <td>...</td>\n",
       "      <td>...</td>\n",
       "      <td>...</td>\n",
       "      <td>...</td>\n",
       "      <td>...</td>\n",
       "      <td>...</td>\n",
       "      <td>...</td>\n",
       "      <td>...</td>\n",
       "      <td>...</td>\n",
       "      <td>...</td>\n",
       "      <td>...</td>\n",
       "    </tr>\n",
       "    <tr>\n",
       "      <th>319772</th>\n",
       "      <td>12/30</td>\n",
       "      <td>21:25</td>\n",
       "      <td>1.0518</td>\n",
       "      <td>1.0520</td>\n",
       "      <td>1.0520</td>\n",
       "      <td>1.0518</td>\n",
       "      <td>1285.0</td>\n",
       "      <td>-0.003037</td>\n",
       "      <td>-0.003227</td>\n",
       "      <td>-0.003037</td>\n",
       "      <td>-0.003227</td>\n",
       "      <td>0.227612</td>\n",
       "      <td>2016-12-30 21:25:00</td>\n",
       "    </tr>\n",
       "    <tr>\n",
       "      <th>319773</th>\n",
       "      <td>12/30</td>\n",
       "      <td>21:26</td>\n",
       "      <td>1.0518</td>\n",
       "      <td>1.0518</td>\n",
       "      <td>1.0518</td>\n",
       "      <td>1.0518</td>\n",
       "      <td>1286.0</td>\n",
       "      <td>-0.003227</td>\n",
       "      <td>-0.003227</td>\n",
       "      <td>-0.003227</td>\n",
       "      <td>-0.003227</td>\n",
       "      <td>0.199005</td>\n",
       "      <td>2016-12-30 21:26:00</td>\n",
       "    </tr>\n",
       "    <tr>\n",
       "      <th>319774</th>\n",
       "      <td>12/30</td>\n",
       "      <td>21:27</td>\n",
       "      <td>1.0520</td>\n",
       "      <td>1.0518</td>\n",
       "      <td>1.0520</td>\n",
       "      <td>1.0518</td>\n",
       "      <td>1287.0</td>\n",
       "      <td>-0.003227</td>\n",
       "      <td>-0.003037</td>\n",
       "      <td>-0.003037</td>\n",
       "      <td>-0.003227</td>\n",
       "      <td>0.269071</td>\n",
       "      <td>2016-12-30 21:27:00</td>\n",
       "    </tr>\n",
       "    <tr>\n",
       "      <th>319775</th>\n",
       "      <td>12/30</td>\n",
       "      <td>21:28</td>\n",
       "      <td>1.0520</td>\n",
       "      <td>1.0520</td>\n",
       "      <td>1.0520</td>\n",
       "      <td>1.0519</td>\n",
       "      <td>1288.0</td>\n",
       "      <td>-0.003037</td>\n",
       "      <td>-0.003037</td>\n",
       "      <td>-0.003037</td>\n",
       "      <td>-0.003132</td>\n",
       "      <td>0.225124</td>\n",
       "      <td>2016-12-30 21:28:00</td>\n",
       "    </tr>\n",
       "    <tr>\n",
       "      <th>319776</th>\n",
       "      <td>12/30</td>\n",
       "      <td>21:29</td>\n",
       "      <td>1.0519</td>\n",
       "      <td>1.0520</td>\n",
       "      <td>1.0520</td>\n",
       "      <td>1.0519</td>\n",
       "      <td>1289.0</td>\n",
       "      <td>-0.003037</td>\n",
       "      <td>-0.003132</td>\n",
       "      <td>-0.003037</td>\n",
       "      <td>-0.003132</td>\n",
       "      <td>0.200249</td>\n",
       "      <td>2016-12-30 21:29:00</td>\n",
       "    </tr>\n",
       "  </tbody>\n",
       "</table>\n",
       "<p>319777 rows × 13 columns</p>\n",
       "</div>"
      ],
      "text/plain": [
       "         date time_min   close    open    high     low  minute  log_open  \\\n",
       "0       01/04    01:00  1.0847  1.0846  1.0847  1.0845    60.0  0.000000   \n",
       "1       01/04    01:01  1.0846  1.0847  1.0847  1.0846    61.0  0.000092   \n",
       "2       01/04    01:02  1.0845  1.0846  1.0846  1.0845    62.0  0.000000   \n",
       "3       01/04    01:03  1.0843  1.0845  1.0845  1.0842    63.0 -0.000092   \n",
       "4       01/04    01:04  1.0843  1.0843  1.0843  1.0843    64.0 -0.000277   \n",
       "...       ...      ...     ...     ...     ...     ...     ...       ...   \n",
       "319772  12/30    21:25  1.0518  1.0520  1.0520  1.0518  1285.0 -0.003037   \n",
       "319773  12/30    21:26  1.0518  1.0518  1.0518  1.0518  1286.0 -0.003227   \n",
       "319774  12/30    21:27  1.0520  1.0518  1.0520  1.0518  1287.0 -0.003227   \n",
       "319775  12/30    21:28  1.0520  1.0520  1.0520  1.0519  1288.0 -0.003037   \n",
       "319776  12/30    21:29  1.0519  1.0520  1.0520  1.0519  1289.0 -0.003037   \n",
       "\n",
       "        log_close  log_high   log_low    volume            datetime  \n",
       "0        0.000092  0.000092 -0.000092  1.000000 2016-01-04 01:00:00  \n",
       "1        0.000000  0.000092  0.000000  1.038156 2016-01-04 01:01:00  \n",
       "2       -0.000092  0.000000 -0.000092  1.322734 2016-01-04 01:02:00  \n",
       "3       -0.000277 -0.000092 -0.000369  1.701113 2016-01-04 01:03:00  \n",
       "4       -0.000277 -0.000277 -0.000277  1.915739 2016-01-04 01:04:00  \n",
       "...           ...       ...       ...       ...                 ...  \n",
       "319772  -0.003227 -0.003037 -0.003227  0.227612 2016-12-30 21:25:00  \n",
       "319773  -0.003227 -0.003227 -0.003227  0.199005 2016-12-30 21:26:00  \n",
       "319774  -0.003037 -0.003037 -0.003227  0.269071 2016-12-30 21:27:00  \n",
       "319775  -0.003037 -0.003037 -0.003132  0.225124 2016-12-30 21:28:00  \n",
       "319776  -0.003132 -0.003037 -0.003132  0.200249 2016-12-30 21:29:00  \n",
       "\n",
       "[319777 rows x 13 columns]"
      ]
     },
     "execution_count": 5,
     "metadata": {},
     "output_type": "execute_result"
    }
   ],
   "source": [
    "file_data"
   ]
  },
  {
   "cell_type": "code",
   "execution_count": 6,
   "metadata": {
    "pycharm": {
     "is_executing": true,
     "name": "#%%\n"
    }
   },
   "outputs": [
    {
     "name": "stdout",
     "output_type": "stream",
     "text": [
      "Applying talib functions to training set: [{'name': 'ATR', 'parameters': {'timeperiod': 10}}] ...\n",
      "...Done\n"
     ]
    }
   ],
   "source": [
    "# Volatility Indicator Function: ATR - Average True Range\n",
    "talib_fun = [ {\"name\":\"ATR\", \"parameters\": {\"timeperiod\": 10}}]\n",
    "print('Applying talib functions to training set: {talib} ...'.format(talib=talib_fun))\n",
    "file_data_talib, talib_names = importing.apply_talib(file_data,    talib_fun )\n",
    "print('...Done')\n"
   ]
  },
  {
   "cell_type": "code",
   "execution_count": 7,
   "metadata": {
    "pycharm": {
     "is_executing": true,
     "name": "#%%\n"
    }
   },
   "outputs": [
    {
     "name": "stdout",
     "output_type": "stream",
     "text": [
      "Creating training dataframes for dates 01/01 to 12/31 ...\n",
      "...Done\n"
     ]
    }
   ],
   "source": [
    "print('Creating training dataframes for dates {start} to {end} ...'.format(start=start_date,end=end_date))\n",
    "current_state_no_position, next_state_no_position, price_info, minutes =  importing.create_tuples(  start_date,end_date,file_data_talib, historical_observations,columns_with_historical, columns_with_current+ talib_names, starting_time)\n",
    "print('...Done')"
   ]
  },
  {
   "cell_type": "code",
   "execution_count": 8,
   "metadata": {},
   "outputs": [
    {
     "data": {
      "text/html": [
       "<div>\n",
       "<style scoped>\n",
       "    .dataframe tbody tr th:only-of-type {\n",
       "        vertical-align: middle;\n",
       "    }\n",
       "\n",
       "    .dataframe tbody tr th {\n",
       "        vertical-align: top;\n",
       "    }\n",
       "\n",
       "    .dataframe thead th {\n",
       "        text-align: right;\n",
       "    }\n",
       "</style>\n",
       "<table border=\"1\" class=\"dataframe\">\n",
       "  <thead>\n",
       "    <tr style=\"text-align: right;\">\n",
       "      <th></th>\n",
       "      <th>log_close_-2</th>\n",
       "      <th>log_close_-1</th>\n",
       "      <th>log_close_0</th>\n",
       "      <th>open</th>\n",
       "      <th>close</th>\n",
       "      <th>ATR</th>\n",
       "    </tr>\n",
       "  </thead>\n",
       "  <tbody>\n",
       "    <tr>\n",
       "      <th>0</th>\n",
       "      <td>0.001382</td>\n",
       "      <td>0.001290</td>\n",
       "      <td>0.001750</td>\n",
       "      <td>1.0860</td>\n",
       "      <td>1.0865</td>\n",
       "      <td>0.000271</td>\n",
       "    </tr>\n",
       "    <tr>\n",
       "      <th>1</th>\n",
       "      <td>0.001290</td>\n",
       "      <td>0.001750</td>\n",
       "      <td>0.001842</td>\n",
       "      <td>1.0865</td>\n",
       "      <td>1.0866</td>\n",
       "      <td>0.000294</td>\n",
       "    </tr>\n",
       "    <tr>\n",
       "      <th>2</th>\n",
       "      <td>0.001750</td>\n",
       "      <td>0.001842</td>\n",
       "      <td>0.001658</td>\n",
       "      <td>1.0866</td>\n",
       "      <td>1.0864</td>\n",
       "      <td>0.000295</td>\n",
       "    </tr>\n",
       "    <tr>\n",
       "      <th>3</th>\n",
       "      <td>0.001842</td>\n",
       "      <td>0.001658</td>\n",
       "      <td>0.001750</td>\n",
       "      <td>1.0864</td>\n",
       "      <td>1.0865</td>\n",
       "      <td>0.000295</td>\n",
       "    </tr>\n",
       "    <tr>\n",
       "      <th>4</th>\n",
       "      <td>0.001658</td>\n",
       "      <td>0.001750</td>\n",
       "      <td>0.001474</td>\n",
       "      <td>1.0865</td>\n",
       "      <td>1.0862</td>\n",
       "      <td>0.000296</td>\n",
       "    </tr>\n",
       "    <tr>\n",
       "      <th>...</th>\n",
       "      <td>...</td>\n",
       "      <td>...</td>\n",
       "      <td>...</td>\n",
       "      <td>...</td>\n",
       "      <td>...</td>\n",
       "      <td>...</td>\n",
       "    </tr>\n",
       "    <tr>\n",
       "      <th>303912</th>\n",
       "      <td>-0.003513</td>\n",
       "      <td>-0.003513</td>\n",
       "      <td>-0.003037</td>\n",
       "      <td>1.0515</td>\n",
       "      <td>1.0520</td>\n",
       "      <td>0.000143</td>\n",
       "    </tr>\n",
       "    <tr>\n",
       "      <th>303913</th>\n",
       "      <td>-0.003513</td>\n",
       "      <td>-0.003037</td>\n",
       "      <td>-0.003227</td>\n",
       "      <td>1.0520</td>\n",
       "      <td>1.0518</td>\n",
       "      <td>0.000149</td>\n",
       "    </tr>\n",
       "    <tr>\n",
       "      <th>303914</th>\n",
       "      <td>-0.003037</td>\n",
       "      <td>-0.003227</td>\n",
       "      <td>-0.003227</td>\n",
       "      <td>1.0518</td>\n",
       "      <td>1.0518</td>\n",
       "      <td>0.000134</td>\n",
       "    </tr>\n",
       "    <tr>\n",
       "      <th>303915</th>\n",
       "      <td>-0.003227</td>\n",
       "      <td>-0.003227</td>\n",
       "      <td>-0.003037</td>\n",
       "      <td>1.0518</td>\n",
       "      <td>1.0520</td>\n",
       "      <td>0.000141</td>\n",
       "    </tr>\n",
       "    <tr>\n",
       "      <th>303916</th>\n",
       "      <td>-0.003227</td>\n",
       "      <td>-0.003037</td>\n",
       "      <td>-0.003037</td>\n",
       "      <td>1.0520</td>\n",
       "      <td>1.0520</td>\n",
       "      <td>0.000137</td>\n",
       "    </tr>\n",
       "  </tbody>\n",
       "</table>\n",
       "<p>303917 rows × 6 columns</p>\n",
       "</div>"
      ],
      "text/plain": [
       "        log_close_-2  log_close_-1  log_close_0    open   close       ATR\n",
       "0           0.001382      0.001290     0.001750  1.0860  1.0865  0.000271\n",
       "1           0.001290      0.001750     0.001842  1.0865  1.0866  0.000294\n",
       "2           0.001750      0.001842     0.001658  1.0866  1.0864  0.000295\n",
       "3           0.001842      0.001658     0.001750  1.0864  1.0865  0.000295\n",
       "4           0.001658      0.001750     0.001474  1.0865  1.0862  0.000296\n",
       "...              ...           ...          ...     ...     ...       ...\n",
       "303912     -0.003513     -0.003513    -0.003037  1.0515  1.0520  0.000143\n",
       "303913     -0.003513     -0.003037    -0.003227  1.0520  1.0518  0.000149\n",
       "303914     -0.003037     -0.003227    -0.003227  1.0518  1.0518  0.000134\n",
       "303915     -0.003227     -0.003227    -0.003037  1.0518  1.0520  0.000141\n",
       "303916     -0.003227     -0.003037    -0.003037  1.0520  1.0520  0.000137\n",
       "\n",
       "[303917 rows x 6 columns]"
      ]
     },
     "execution_count": 8,
     "metadata": {},
     "output_type": "execute_result"
    }
   ],
   "source": [
    "current_state_no_position\n"
   ]
  },
  {
   "cell_type": "code",
   "execution_count": 9,
   "metadata": {},
   "outputs": [
    {
     "data": {
      "text/html": [
       "<div>\n",
       "<style scoped>\n",
       "    .dataframe tbody tr th:only-of-type {\n",
       "        vertical-align: middle;\n",
       "    }\n",
       "\n",
       "    .dataframe tbody tr th {\n",
       "        vertical-align: top;\n",
       "    }\n",
       "\n",
       "    .dataframe thead th {\n",
       "        text-align: right;\n",
       "    }\n",
       "</style>\n",
       "<table border=\"1\" class=\"dataframe\">\n",
       "  <thead>\n",
       "    <tr style=\"text-align: right;\">\n",
       "      <th></th>\n",
       "      <th>log_close_-2</th>\n",
       "      <th>log_close_-1</th>\n",
       "      <th>log_close_0</th>\n",
       "      <th>open</th>\n",
       "      <th>close</th>\n",
       "      <th>ATR</th>\n",
       "    </tr>\n",
       "  </thead>\n",
       "  <tbody>\n",
       "    <tr>\n",
       "      <th>0</th>\n",
       "      <td>0.001290</td>\n",
       "      <td>0.001750</td>\n",
       "      <td>0.001842</td>\n",
       "      <td>1.0865</td>\n",
       "      <td>1.0866</td>\n",
       "      <td>0.000294</td>\n",
       "    </tr>\n",
       "    <tr>\n",
       "      <th>1</th>\n",
       "      <td>0.001750</td>\n",
       "      <td>0.001842</td>\n",
       "      <td>0.001658</td>\n",
       "      <td>1.0866</td>\n",
       "      <td>1.0864</td>\n",
       "      <td>0.000295</td>\n",
       "    </tr>\n",
       "    <tr>\n",
       "      <th>2</th>\n",
       "      <td>0.001842</td>\n",
       "      <td>0.001658</td>\n",
       "      <td>0.001750</td>\n",
       "      <td>1.0864</td>\n",
       "      <td>1.0865</td>\n",
       "      <td>0.000295</td>\n",
       "    </tr>\n",
       "    <tr>\n",
       "      <th>3</th>\n",
       "      <td>0.001658</td>\n",
       "      <td>0.001750</td>\n",
       "      <td>0.001474</td>\n",
       "      <td>1.0865</td>\n",
       "      <td>1.0862</td>\n",
       "      <td>0.000296</td>\n",
       "    </tr>\n",
       "    <tr>\n",
       "      <th>4</th>\n",
       "      <td>0.001750</td>\n",
       "      <td>0.001474</td>\n",
       "      <td>0.001842</td>\n",
       "      <td>1.0862</td>\n",
       "      <td>1.0866</td>\n",
       "      <td>0.000316</td>\n",
       "    </tr>\n",
       "    <tr>\n",
       "      <th>...</th>\n",
       "      <td>...</td>\n",
       "      <td>...</td>\n",
       "      <td>...</td>\n",
       "      <td>...</td>\n",
       "      <td>...</td>\n",
       "      <td>...</td>\n",
       "    </tr>\n",
       "    <tr>\n",
       "      <th>303912</th>\n",
       "      <td>-0.003513</td>\n",
       "      <td>-0.003037</td>\n",
       "      <td>-0.003227</td>\n",
       "      <td>1.0520</td>\n",
       "      <td>1.0518</td>\n",
       "      <td>0.000149</td>\n",
       "    </tr>\n",
       "    <tr>\n",
       "      <th>303913</th>\n",
       "      <td>-0.003037</td>\n",
       "      <td>-0.003227</td>\n",
       "      <td>-0.003227</td>\n",
       "      <td>1.0518</td>\n",
       "      <td>1.0518</td>\n",
       "      <td>0.000134</td>\n",
       "    </tr>\n",
       "    <tr>\n",
       "      <th>303914</th>\n",
       "      <td>-0.003227</td>\n",
       "      <td>-0.003227</td>\n",
       "      <td>-0.003037</td>\n",
       "      <td>1.0518</td>\n",
       "      <td>1.0520</td>\n",
       "      <td>0.000141</td>\n",
       "    </tr>\n",
       "    <tr>\n",
       "      <th>303915</th>\n",
       "      <td>-0.003227</td>\n",
       "      <td>-0.003037</td>\n",
       "      <td>-0.003037</td>\n",
       "      <td>1.0520</td>\n",
       "      <td>1.0520</td>\n",
       "      <td>0.000137</td>\n",
       "    </tr>\n",
       "    <tr>\n",
       "      <th>303916</th>\n",
       "      <td>-0.003037</td>\n",
       "      <td>-0.003037</td>\n",
       "      <td>-0.003132</td>\n",
       "      <td>1.0520</td>\n",
       "      <td>1.0519</td>\n",
       "      <td>0.000133</td>\n",
       "    </tr>\n",
       "  </tbody>\n",
       "</table>\n",
       "<p>303917 rows × 6 columns</p>\n",
       "</div>"
      ],
      "text/plain": [
       "        log_close_-2  log_close_-1  log_close_0    open   close       ATR\n",
       "0           0.001290      0.001750     0.001842  1.0865  1.0866  0.000294\n",
       "1           0.001750      0.001842     0.001658  1.0866  1.0864  0.000295\n",
       "2           0.001842      0.001658     0.001750  1.0864  1.0865  0.000295\n",
       "3           0.001658      0.001750     0.001474  1.0865  1.0862  0.000296\n",
       "4           0.001750      0.001474     0.001842  1.0862  1.0866  0.000316\n",
       "...              ...           ...          ...     ...     ...       ...\n",
       "303912     -0.003513     -0.003037    -0.003227  1.0520  1.0518  0.000149\n",
       "303913     -0.003037     -0.003227    -0.003227  1.0518  1.0518  0.000134\n",
       "303914     -0.003227     -0.003227    -0.003037  1.0518  1.0520  0.000141\n",
       "303915     -0.003227     -0.003037    -0.003037  1.0520  1.0520  0.000137\n",
       "303916     -0.003037     -0.003037    -0.003132  1.0520  1.0519  0.000133\n",
       "\n",
       "[303917 rows x 6 columns]"
      ]
     },
     "execution_count": 9,
     "metadata": {},
     "output_type": "execute_result"
    }
   ],
   "source": [
    "next_state_no_position #1 day after wrt current_state_no_position"
   ]
  },
  {
   "cell_type": "code",
   "execution_count": 10,
   "metadata": {
    "pycharm": {
     "is_executing": true,
     "name": "#%%\n"
    }
   },
   "outputs": [],
   "source": [
    "action = random_action(current_state_no_position)\n",
    "current_state, next_state = set_position(current_state_no_position, next_state_no_position, action, minutes)\n",
    "\n",
    "    # reward\n",
    "reward = UnrealizedReward(fee, position_size).calculate(current_state, action, price_info, minutes)"
   ]
  },
  {
   "cell_type": "code",
   "execution_count": 11,
   "metadata": {},
   "outputs": [
    {
     "data": {
      "text/plain": [
       "0         1\n",
       "1         0\n",
       "2         1\n",
       "3        -1\n",
       "4        -1\n",
       "         ..\n",
       "303912    1\n",
       "303913    1\n",
       "303914    0\n",
       "303915    0\n",
       "303916    0\n",
       "Name: action, Length: 303917, dtype: category\n",
       "Categories (3, int64): [-1, 0, 1]"
      ]
     },
     "execution_count": 11,
     "metadata": {},
     "output_type": "execute_result"
    }
   ],
   "source": [
    "action"
   ]
  },
  {
   "cell_type": "code",
   "execution_count": 12,
   "metadata": {},
   "outputs": [
    {
     "data": {
      "text/plain": [
       "0        -0.100000\n",
       "1         0.820302\n",
       "2        -0.100000\n",
       "3         0.720387\n",
       "4         2.761922\n",
       "            ...   \n",
       "303912    4.752852\n",
       "303913   -1.901502\n",
       "303914   -0.100000\n",
       "303915    0.000000\n",
       "303916    0.000000\n",
       "Name: position, Length: 303917, dtype: float64"
      ]
     },
     "execution_count": 12,
     "metadata": {},
     "output_type": "execute_result"
    }
   ],
   "source": [
    "reward"
   ]
  },
  {
   "cell_type": "code",
   "execution_count": 13,
   "metadata": {
    "pycharm": {
     "is_executing": true,
     "name": "#%%\n"
    }
   },
   "outputs": [
    {
     "name": "stdout",
     "output_type": "stream",
     "text": [
      "Initializing model RandomForest with parameters {'n_estimators': 4, 'criterion': 'mse', 'n_jobs': -1, 'min_impurity_decrease': 0.0001} ...\n",
      "...Done\n"
     ]
    }
   ],
   "source": [
    "    # samples creation\n",
    "samples = { 'current_state': current_state.copy(),'next_state': next_state.copy(), 'reward': reward, 'action': action,  'minute': minutes,  'fee': fee, 'position_size': position_size,    'price_info': price_info }\n",
    "samples = create_all_combination(samples, possible_actions(action_set))\n",
    "print('Initializing model {model} with parameters {parameters} ...' .format(model=model_name,  parameters=model_parameters))\n",
    "model_module = importlib.import_module( '.' + model_name,'src.models')\\\n",
    "    \n",
    "model = model_module.get_model(model_parameters, samples['current_state'].copy(),   samples['reward'], samples['action'])\n",
    "print('...Done')"
   ]
  },
  {
   "cell_type": "code",
   "execution_count": 14,
   "metadata": {},
   "outputs": [
    {
     "data": {
      "text/plain": [
       "{'current_state':         log_close_-2  log_close_-1  log_close_0    open   close       ATR  \\\n",
       " 0           0.001382      0.001290     0.001750  1.0860  1.0865  0.000271   \n",
       " 1           0.001290      0.001750     0.001842  1.0865  1.0866  0.000294   \n",
       " 2           0.001750      0.001842     0.001658  1.0866  1.0864  0.000295   \n",
       " 3           0.001842      0.001658     0.001750  1.0864  1.0865  0.000295   \n",
       " 4           0.001658      0.001750     0.001474  1.0865  1.0862  0.000296   \n",
       " ...              ...           ...          ...     ...     ...       ...   \n",
       " 303912     -0.003513     -0.003513    -0.003037  1.0515  1.0520  0.000143   \n",
       " 303913     -0.003513     -0.003037    -0.003227  1.0520  1.0518  0.000149   \n",
       " 303914     -0.003037     -0.003227    -0.003227  1.0518  1.0518  0.000134   \n",
       " 303915     -0.003227     -0.003227    -0.003037  1.0518  1.0520  0.000141   \n",
       " 303916     -0.003227     -0.003037    -0.003037  1.0520  1.0520  0.000137   \n",
       " \n",
       "         position  \n",
       " 0              1  \n",
       " 1              1  \n",
       " 2              1  \n",
       " 3              1  \n",
       " 4              1  \n",
       " ...          ...  \n",
       " 303912         0  \n",
       " 303913         0  \n",
       " 303914         0  \n",
       " 303915         0  \n",
       " 303916         0  \n",
       " \n",
       " [2735253 rows x 7 columns],\n",
       " 'next_state':         log_close_-2  log_close_-1  log_close_0    open   close       ATR  \\\n",
       " 0           0.001290      0.001750     0.001842  1.0865  1.0866  0.000294   \n",
       " 1           0.001750      0.001842     0.001658  1.0866  1.0864  0.000295   \n",
       " 2           0.001842      0.001658     0.001750  1.0864  1.0865  0.000295   \n",
       " 3           0.001658      0.001750     0.001474  1.0865  1.0862  0.000296   \n",
       " 4           0.001750      0.001474     0.001842  1.0862  1.0866  0.000316   \n",
       " ...              ...           ...          ...     ...     ...       ...   \n",
       " 303912     -0.003513     -0.003037    -0.003227  1.0520  1.0518  0.000149   \n",
       " 303913     -0.003037     -0.003227    -0.003227  1.0518  1.0518  0.000134   \n",
       " 303914     -0.003227     -0.003227    -0.003037  1.0518  1.0520  0.000141   \n",
       " 303915     -0.003227     -0.003037    -0.003037  1.0520  1.0520  0.000137   \n",
       " 303916     -0.003037     -0.003037    -0.003132  1.0520  1.0519  0.000133   \n",
       " \n",
       "         position  \n",
       " 0              1  \n",
       " 1              1  \n",
       " 2              1  \n",
       " 3              1  \n",
       " 4              1  \n",
       " ...          ...  \n",
       " 303912         0  \n",
       " 303913         0  \n",
       " 303914         0  \n",
       " 303915         0  \n",
       " 303916         0  \n",
       " \n",
       " [2735253 rows x 7 columns],\n",
       " 'reward': 0         4.501933\n",
       " 1         0.820302\n",
       " 2        -1.940943\n",
       " 3         0.820387\n",
       " 4        -2.861922\n",
       "             ...   \n",
       " 303912    0.000000\n",
       " 303913   -0.000000\n",
       " 303914    0.000000\n",
       " 303915    0.000000\n",
       " 303916    0.000000\n",
       " Length: 2735253, dtype: float64,\n",
       " 'action':           0\n",
       " 0       1.0\n",
       " 1       1.0\n",
       " 2       1.0\n",
       " 3       1.0\n",
       " 4       1.0\n",
       " ...     ...\n",
       " 303912  0.0\n",
       " 303913  0.0\n",
       " 303914  0.0\n",
       " 303915  0.0\n",
       " 303916  0.0\n",
       " \n",
       " [2735253 rows x 1 columns],\n",
       " 'minute': 0          120.0\n",
       " 1          121.0\n",
       " 2          122.0\n",
       " 3          123.0\n",
       " 4          124.0\n",
       "            ...  \n",
       " 303912    1284.0\n",
       " 303913    1285.0\n",
       " 303914    1286.0\n",
       " 303915    1287.0\n",
       " 303916    1288.0\n",
       " Length: 303917, dtype: float64,\n",
       " 'fee': 1e-05,\n",
       " 'position_size': 10000,\n",
       " 'price_info':           open   close\n",
       " 0       1.0860  1.0865\n",
       " 1       1.0865  1.0866\n",
       " 2       1.0866  1.0864\n",
       " 3       1.0864  1.0865\n",
       " 4       1.0865  1.0862\n",
       " ...        ...     ...\n",
       " 303912  1.0515  1.0520\n",
       " 303913  1.0520  1.0518\n",
       " 303914  1.0518  1.0518\n",
       " 303915  1.0518  1.0520\n",
       " 303916  1.0520  1.0520\n",
       " \n",
       " [303917 rows x 2 columns]}"
      ]
     },
     "execution_count": 14,
     "metadata": {},
     "output_type": "execute_result"
    }
   ],
   "source": [
    "samples"
   ]
  },
  {
   "cell_type": "code",
   "execution_count": null,
   "metadata": {
    "pycharm": {
     "is_executing": true,
     "name": "#%%\n"
    }
   },
   "outputs": [
    {
     "name": "stdout",
     "output_type": "stream",
     "text": [
      "Running FQI with parameters {'possible_actions': [<Position.L: 1>, <Position.S: -1>, <Position.F: 0>], 'max_iterations': 5, 'discount': 0.99, 'sample_iterations': 1} ...\n"
     ]
    }
   ],
   "source": [
    "logger = logging.getLogger(\"Calibration\")\n",
    "fqi_configuration = {\n",
    "        'possible_actions': possible_actions(action_set),\n",
    "        'max_iterations': max_iteration,\n",
    "        'discount': discount,\n",
    "        'sample_iterations': 1 \n",
    "}\n",
    "print('Running FQI with parameters {parameters} ...'.format(parameters=fqi_configuration))\n",
    "if is_parallelizable(model):\n",
    "        model.set_params(n_jobs=-1)\n",
    "fqi = FQI(samples, model, fqi_configuration, logger)\n",
    "fitted_model, q_norms, losses = fqi.run(**(run_parameters))\n",
    "print('...Done')\n"
   ]
  },
  {
   "cell_type": "code",
   "execution_count": null,
   "metadata": {
    "pycharm": {
     "is_executing": true,
     "name": "#%%\n"
    }
   },
   "outputs": [],
   "source": [
    "  # optimal policy applied to training\n",
    "print('Applying optimal policy to training set...')\n",
    "current_state_train = current_state_no_position.copy()\n",
    "current_state_train['position'] = Position.F\n",
    "if is_parallelizable(model):\n",
    "    fitted_model.set_params(n_jobs=1)\n",
    "policy = QPolicy(fitted_model)\n",
    "optimal_state_train, optimal_actions_train = policy.apply(minutes, current_state_train, possible_actions(action_set))\n",
    "reward_train = UnrealizedReward(fee,position_size).calculate(optimal_state_train,  optimal_actions_train,  price_info, minutes)\n",
    "print('...Done')\n"
   ]
  },
  {
   "cell_type": "code",
   "execution_count": null,
   "metadata": {
    "pycharm": {
     "is_executing": true,
     "name": "#%%\n"
    }
   },
   "outputs": [],
   "source": [
    "print('Reading testing set from file  ...')\n",
    "file_data_testing  = importing.import_df(\"2017-EURUSD-1m.csv\")\n",
    "print('...Done')\n",
    "\n",
    "\n"
   ]
  },
  {
   "cell_type": "code",
   "execution_count": null,
   "metadata": {
    "pycharm": {
     "is_executing": true,
     "name": "#%%\n"
    }
   },
   "outputs": [],
   "source": [
    "print('Applying talib functions to testing set: {talib} ...'.format(talib=talib_fun))\n",
    "file_data_testing_talib, talib_names  = importing.apply_talib(file_data_testing,    talib_fun )\n",
    "print('...Done')\n",
    "\n",
    "\n",
    "print('Creating training dataframes for dates {start} to {end} ...'.format(start=start_date,end=end_date))\n",
    "current_state_testing,  next_state_testing, price_info_testing,  minutes_testing  =  importing.create_tuples(start_date, end_date, file_data_testing_talib, historical_observations,columns_with_historical, columns_with_current+ talib_names, starting_time)\n",
    "\n",
    "print('...Done')"
   ]
  },
  {
   "cell_type": "code",
   "execution_count": null,
   "metadata": {
    "pycharm": {
     "is_executing": true,
     "name": "#%%\n"
    }
   },
   "outputs": [],
   "source": [
    "print('Applying optimal policy to testing set...')\n",
    "current_state_testing['position'] = Position.F\n",
    "if is_parallelizable(model):\n",
    "    fitted_model.set_params(n_jobs=1)\n",
    "policy = QPolicy(fitted_model)\n",
    "optimal_state, optimal_actions = policy.apply(minutes_testing,current_state_testing,possible_actions(action_set))\n",
    "print('...Done')\n",
    "\n",
    "print('Calculating optimal reward achieved in testing set...')\n",
    "reward_testing = UnrealizedReward(fee, position_size).calculate(optimal_state,optimal_actions, price_info_testing, minutes_testing)\n",
    "print('...Done')"
   ]
  },
  {
   "cell_type": "code",
   "execution_count": null,
   "metadata": {
    "pycharm": {
     "is_executing": true,
     "name": "#%%\n"
    }
   },
   "outputs": [],
   "source": [
    "print('############################  Output  ############################')\n",
    "print('Sum of optimal Reward(training set): {reward}'.format(reward=sum(reward_train)))\n",
    "print('Sum of optimal Reward(testing set): {reward}'.format(reward=sum(reward_testing)))\n",
    "print('Optimal action summary (training set): {summary}'.format(summary=Counter(optimal_actions_train)))\n",
    "print('Optimal action summary (testing set): {summary}'.format(summary=Counter(optimal_actions)))"
   ]
  },
  {
   "cell_type": "code",
   "execution_count": null,
   "metadata": {
    "pycharm": {
     "is_executing": true,
     "name": "#%%\n"
    }
   },
   "outputs": [],
   "source": [
    "plt.plot(np.cumsum(reward_train))\n",
    "plt.show()\n",
    "plt.plot(np.cumsum(reward_testing))\n",
    "plt.show()"
   ]
  },
  {
   "cell_type": "code",
   "execution_count": null,
   "metadata": {},
   "outputs": [],
   "source": []
  },
  {
   "cell_type": "code",
   "execution_count": null,
   "metadata": {},
   "outputs": [],
   "source": []
  }
 ],
 "metadata": {
  "kernelspec": {
   "display_name": "Python 3",
   "language": "python",
   "name": "python3"
  },
  "language_info": {
   "codemirror_mode": {
    "name": "ipython",
    "version": 3
   },
   "file_extension": ".py",
   "mimetype": "text/x-python",
   "name": "python",
   "nbconvert_exporter": "python",
   "pygments_lexer": "ipython3",
   "version": "3.7.4"
  },
  "pycharm": {
   "stem_cell": {
    "cell_type": "raw",
    "metadata": {
     "collapsed": false
    },
    "source": []
   }
  }
 },
 "nbformat": 4,
 "nbformat_minor": 1
}
